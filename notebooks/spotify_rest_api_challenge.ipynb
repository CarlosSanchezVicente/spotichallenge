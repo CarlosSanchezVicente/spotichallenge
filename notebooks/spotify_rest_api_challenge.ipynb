{
 "cells": [
  {
   "cell_type": "markdown",
   "id": "ef05c1d6",
   "metadata": {},
   "source": [
    "![spotify_logo](../img/spotify_logo.png)\n",
    "\n",
    "# Spotify REST API Challenge\n",
    "\n",
    "__What to listen?__\n",
    "\n",
    "Create your own playlist based on the related artists and their most popular tracks using the [Spotify REST API](https://developer.spotify.com/)"
   ]
  },
  {
   "cell_type": "code",
   "execution_count": null,
   "id": "17a49776",
   "metadata": {},
   "outputs": [],
   "source": [
    "# Imports\n",
    "import pandas as pd\n",
    "import requests\n",
    "from dotenv import dotenv_values"
   ]
  },
  {
   "cell_type": "markdown",
   "id": "4e97884c",
   "metadata": {},
   "source": [
    "### Get access!!!\n",
    "\n",
    "Get your `client_id` and `client_secret` to generate your __token__ access"
   ]
  },
  {
   "cell_type": "code",
   "execution_count": null,
   "id": "0f5cf69d",
   "metadata": {},
   "outputs": [],
   "source": [
    "config = dotenv_values('.env')\n",
    "#config"
   ]
  },
  {
   "cell_type": "code",
   "execution_count": null,
   "id": "7b5d2e52",
   "metadata": {},
   "outputs": [],
   "source": [
    "# Generate token with a POST request\n",
    "client_id = config.get('CLIENT_ID')   # CLIENT ID\n",
    "client_secret = config['CLIENT_SECRET']   # CLIENT SECRET\n",
    "auth_url = 'https://accounts.spotify.com/api/token'"
   ]
  },
  {
   "cell_type": "code",
   "execution_count": null,
   "id": "c7901d1e",
   "metadata": {},
   "outputs": [],
   "source": [
    "auth_response = requests.post(auth_url, {'grant_type': 'client_credentials',\n",
    "                                         'client_id': client_id,\n",
    "                                         'client_secret': client_secret}).json()"
   ]
  },
  {
   "cell_type": "code",
   "execution_count": null,
   "id": "262e7e18",
   "metadata": {},
   "outputs": [],
   "source": [
    "access_token = auth_response['access_token']\n",
    "#auth_response"
   ]
  },
  {
   "cell_type": "markdown",
   "id": "e617caff",
   "metadata": {},
   "source": [
    "### Set your main variables!!!\n",
    "\n",
    "Set the `base_uri` (i.e.: end-point), parameters and `headers` for your __GET__ operations"
   ]
  },
  {
   "cell_type": "code",
   "execution_count": null,
   "id": "62e6d4fb",
   "metadata": {},
   "outputs": [],
   "source": [
    "# Base end-point construction\n",
    "\n",
    "base_url = 'https://api.spotify.com/v1/'\n",
    "resource = 'artists/'\n",
    "\n",
    "header_info = {'Authorization': 'Bearer {token}'.format(token=access_token)}\n",
    "#header_info"
   ]
  },
  {
   "cell_type": "markdown",
   "id": "16660a9b",
   "metadata": {},
   "source": [
    "### Create your new playlist!!!\n",
    "\n",
    "Use [`/related-artists`](https://developer.spotify.com/documentation/web-api/reference/#/operations/get-an-artists-related-artists) and [`/top-tracks`](https://developer.spotify.com/documentation/web-api/reference/#/operations/get-an-artists-top-tracks) in order to get the data that you need.\n",
    "\n",
    "__Here you have the different artists to start with:__\n",
    "\n",
    "- __Option 1:__ 0L8ExT028jH3ddEcZwqJJ5\n",
    "\n",
    "- __Option 2:__ 4Y7tXHSEejGu1vQ9bwDdXW\n",
    "\n",
    "- __Option 3:__ 6FBDaR13swtiWwGhX1WQsP\n",
    "\n",
    "- __Option 4:__ 0kyQwKHCZnKE7kTXkxXjrB\n",
    "\n",
    "- __Option 5:__ 2d0hyoQ5ynDBnkvAbJKORj\n",
    "\n",
    "- __Option 6:__ 3bgsNtcf5d5h9jbQbohfBK\n",
    "\n",
    "- __Option 7:__ 7mWCSSOYqm4E9mB7V4ot6S\n",
    "\n",
    "- __Option 8:__ 64KEffDW9EtZ1y2vBYgq8T\n",
    "\n",
    "- __Option 9:__ 4k1ELeJKT1ISyDv8JivPpB\n",
    "\n",
    "- __Option 10:__ 4Z8W4fKeB5YxbusRsdQVPb\n",
    "\n",
    "- __Option 11:__ 26dSoYclwsYLMAKD3tpOr4\n",
    "\n",
    "- __Option 12:__ 7y97mc3bZRFXzT2szRM4L4\n",
    "\n",
    "- __Option 13:__ 1w5Kfo2jwwIPruYS2UWh56\n",
    "\n",
    "\n",
    "> Remember to check the [Requests](https://requests.readthedocs.io/en/latest/) library docs!!!\n",
    "\n",
    "---"
   ]
  },
  {
   "cell_type": "markdown",
   "id": "599bb2bc",
   "metadata": {},
   "source": [
    "### END-POINT Nº 1 - EXTRACT RELATED ARTIST FROM 'artist_id'"
   ]
  },
  {
   "cell_type": "code",
   "execution_count": null,
   "id": "04f85940",
   "metadata": {},
   "outputs": [],
   "source": [
    "# Here you can complete your endpoint URI\n",
    "#END-POINT Nº 1 - EXTRACT RELATED ARTIST FROM 'artist_id'\n",
    "#Fragments to compose the endpoint\n",
    "base_url = 'https://api.spotify.com/v1/'\n",
    "resource = 'artists/'\n",
    "artist_id = '7y97mc3bZRFXzT2szRM4L4'\n",
    "method = '/related-artists'\n",
    "\n",
    "#End-points one\n",
    "full_endpoint = base_url + resource + artist_id + method\n",
    "full_endpoint"
   ]
  },
  {
   "cell_type": "code",
   "execution_count": null,
   "id": "50ec3959",
   "metadata": {},
   "outputs": [],
   "source": [
    "# Start building your playlist!!!\n",
    "related_artists_response = requests.get(full_endpoint, headers = header_info)   #Get to spotify\n",
    "related_artists_response   #Response of the get - 200 means that everything is correct"
   ]
  },
  {
   "cell_type": "code",
   "execution_count": null,
   "id": "de4e3974",
   "metadata": {},
   "outputs": [],
   "source": [
    "related_artists_response.content   #This data is byte type, as it's possible to see in the first character (letter b)"
   ]
  },
  {
   "cell_type": "code",
   "execution_count": null,
   "id": "3ef6a8fb",
   "metadata": {},
   "outputs": [],
   "source": [
    "related_artists_json = related_artists_response.json()   #Transform the data to json\n",
    "related_artists_json.keys()   #Print the json keys. It's possible because in the json there is a dictionary\n",
    "related_artists_json['artists']   #Print related artist of id artist\n",
    "len(related_artists_json['artists'])   #Len of related artist list\n",
    "related_artists_json['artists'][0]['name']   #Extract the name of first related artist\n",
    "\n",
    "#Whit this list comprehension it's possible to obtain the names of all related artist\n",
    "[related_artists_json['artists'][i]['name'] for i in range(len(related_artists_json['artists']))]"
   ]
  },
  {
   "cell_type": "code",
   "execution_count": null,
   "id": "0ae475bd",
   "metadata": {},
   "outputs": [],
   "source": [
    "#Transform this json in a dataframe and store only this columns: 'id', 'name', 'genres', 'popularity', 'followers'\n",
    "df_related_artists = pd.DataFrame(related_artists_json['artists'])[['id', 'name', 'genres', 'popularity', 'followers']]\n",
    "#Rename the column names\n",
    "df_related_artists = df_related_artists.rename(columns = {'id': 'related_id',\n",
    "                                                          'name': 'related_name',\n",
    "                                                          'genres': 'related_genres',\n",
    "                                                          'popularity': 'related_popularity',\n",
    "                                                          'followers': 'related_followers'})\n",
    "#Create a new column with 'artist_id'\n",
    "df_related_artists['artist_id'] = artist_id\n",
    "\n",
    "#The 'followers' column is a dictionary type, so whit this lambda function, it's possible to extract the interesting data \n",
    "#of this column aand replaces this extracted column with the previous one.\n",
    "df_related_artists['related_followers'] = df_related_artists['related_followers'].apply(lambda row: row['total'])\n",
    "df_related_artists.head()"
   ]
  },
  {
   "cell_type": "markdown",
   "id": "4ba64ef3",
   "metadata": {},
   "source": [
    "### END-POINT Nº2 - EXTRACT THE TOP-TRACKS OF THE 'artist_id'"
   ]
  },
  {
   "cell_type": "code",
   "execution_count": null,
   "id": "0772fe06",
   "metadata": {},
   "outputs": [],
   "source": [
    "#END-POINT Nº2 - EXTRACT THE TOP-TRACKS OF THE 'artist_id'\n",
    "#Fragments to compose the endpoint\n",
    "base_url = 'https://api.spotify.com/v1/'\n",
    "resource = 'artists/'\n",
    "artist_id = '7y97mc3bZRFXzT2szRM4L4'\n",
    "method2 = '/top-tracks'\n",
    "argument = '?market=ES'\n",
    "\n",
    "#End-point 2\n",
    "full_endpoint = base_url + resource + artist_id + method2 + argument\n",
    "full_endpoint"
   ]
  },
  {
   "cell_type": "code",
   "execution_count": null,
   "id": "a001cde0",
   "metadata": {},
   "outputs": [],
   "source": [
    "#NOTE: it's possible to write '.json()' at the end of the get and then the response is already a json directly.\n",
    "top_tracks_response = requests.get(full_endpoint, headers = header_info)   #Get to Spotify\n",
    "top_tracks_response.status_code   #Status of the get - 200 means that everything is correct"
   ]
  },
  {
   "cell_type": "code",
   "execution_count": null,
   "id": "99905443",
   "metadata": {},
   "outputs": [],
   "source": [
    "top_tracks_json = top_tracks_response.json()   #Transform the data to json\n",
    "top_tracks_json.keys()  #Print the json keys.\n",
    "#top_tracks_json.values()"
   ]
  },
  {
   "cell_type": "code",
   "execution_count": null,
   "id": "01ef4fce",
   "metadata": {},
   "outputs": [],
   "source": [
    "#Whit this list comprehension it's possible to obtain the names of all top-tracks of 'artist_id'\n",
    "[top_tracks_json['tracks'][i]['name'] for i in range(len(top_tracks_json['tracks']))]"
   ]
  },
  {
   "cell_type": "code",
   "execution_count": null,
   "id": "c62ee965",
   "metadata": {},
   "outputs": [],
   "source": [
    "#NOTE: 'uri' is the unique identifier of a track\n",
    "#Transform this data in a dataframe, includinn only the 'id', 'href', 'nam'e and 'uri' columns of each track. \n",
    "df_tracks = pd.DataFrame(top_tracks_json['tracks'])[['id', 'href','name','uri']]\n",
    "df_tracks\n",
    "df_tracks.info()"
   ]
  },
  {
   "cell_type": "code",
   "execution_count": null,
   "id": "14d7eec0",
   "metadata": {},
   "outputs": [],
   "source": [
    "#Function 'get_top_tracks' to obtain the top-tracks of one artist. This function includes the codes of cell above. \n",
    "#Input: artist_id | output: top-tracks dataframe of this artist.\n",
    "def get_top_tracks(artist_id):\n",
    "    #Fragments to compose the endpoint.\n",
    "    base_url = 'https://api.spotify.com/v1/'\n",
    "    resource = 'artists/'\n",
    "    method2 = '/top-tracks'\n",
    "    argument = '?market=ES'\n",
    "    #End-point\n",
    "    full_endpoint = base_url + resource + artist_id + method2 + argument  \n",
    "    #Get info to Spotify.\n",
    "    top_tracks_response = requests.get(full_endpoint, headers = header_info).json()\n",
    "    \n",
    "    #Create a in a dataframe with this data, including only the 'id', 'href', 'nam'e and 'uri' columns of each track.\n",
    "    df_tracks = pd.DataFrame(top_tracks_response['tracks'])[['id', 'href','name','uri']]\n",
    "    #Change the names of dataframe columns.\n",
    "    df_tracks = df_tracks.rename(columns = {'id': 'related_id',\n",
    "                                            'href': 'related_href',\n",
    "                                            'name': 'related_track_name',\n",
    "                                            'uri': 'related_uri'})\n",
    "    \n",
    "    #Include a new colum with the id_related_artist.\n",
    "    df_tracks['related_id'] = artist_id\n",
    "    #Include a new colum with the name_related_artist. This name is also extrated to the json.\n",
    "    df_tracks['related_artist_name'] = top_tracks_response['tracks'][0]['album']['artists'][0]['name']\n",
    "    \n",
    "    return df_tracks\n",
    "    "
   ]
  },
  {
   "cell_type": "code",
   "execution_count": null,
   "id": "cbe16cfe",
   "metadata": {},
   "outputs": [],
   "source": [
    "#Execute the function\n",
    "artist_id = '7y97mc3bZRFXzT2szRM4L4'\n",
    "df_tracks = get_top_tracks(artist_id)\n",
    "df_tracks.head()"
   ]
  },
  {
   "cell_type": "markdown",
   "id": "a5662906",
   "metadata": {},
   "source": [
    "### END-POINT Nº3 - EXTRACT THE INFORMATION OF THE 'artist_id'"
   ]
  },
  {
   "cell_type": "code",
   "execution_count": null,
   "id": "21cae577",
   "metadata": {},
   "outputs": [],
   "source": [
    "#END-POINT Nº3 - EXTRACT THE INFORMATION OF THE 'artist_id'\n",
    "#Whit this code, it's possible to extract the data related to 'artist_id'.\n",
    "#Fragments to compose the endpoint.\n",
    "base_url = 'https://api.spotify.com/v1/'\n",
    "id_selected = '7y97mc3bZRFXzT2szRM4L4'\n",
    "resource = 'artists'\n",
    "parameters = f'/{id_selected}'\n",
    "#End-point.\n",
    "url = base_url + resource + parameters\n",
    "print(url)\n",
    "#Get function\n",
    "response = requests.get(url, headers=header_info).json()\n",
    "\n",
    "#Extract data from json with this list comprehension. Store this data columns in a dictionary.\n",
    "dict_artist = dict((key, [response[key]]) for key in ['id', 'name', 'genres', 'popularity', 'followers'] if key in response)\n",
    "#Transform the dictionary in dataframe.\n",
    "df_artist = pd.DataFrame(dict_artist)\n",
    "#Change the names of dataframe columns.\n",
    "df_artist = df_artist.rename(columns = {'id': 'artist_id',\n",
    "                                        'name': 'artist_name',\n",
    "                                        'genres': 'artist_genres',\n",
    "                                        'popularity': 'artist_popularity',\n",
    "                                        'followers': 'artist_followers'})\n",
    "\n",
    "#The 'followers' column is a dictionary type, so whit this lambda function, it's possible to extract the interesting data \n",
    "#of this column aand replaces this extracted column with the previous one.\n",
    "df_artist['artist_followers'] = df_artist['artist_followers'].apply(lambda row: row['total'])\n",
    "#df_artist.drop('artist_followers', axis=1, inplace=True)\n",
    "df_artist"
   ]
  },
  {
   "cell_type": "markdown",
   "id": "a66e1879",
   "metadata": {},
   "source": [
    "### MERGE RELATED ARTISTS WITH ARTIST"
   ]
  },
  {
   "cell_type": "code",
   "execution_count": null,
   "id": "965a6491",
   "metadata": {},
   "outputs": [],
   "source": [
    "#Merge 'related_artists' with 'artist' dataframe using 'artist_id'\n",
    "df_related_artists = pd.merge(df_related_artists, df_artist, on='artist_id')\n",
    "df_related_artists.head()"
   ]
  },
  {
   "cell_type": "markdown",
   "id": "5d2baf4a",
   "metadata": {},
   "source": [
    "### END-POINT Nº4 - EXTRACT THE TOP-TRACKS OF THE EACH RELATED ARTIST"
   ]
  },
  {
   "cell_type": "code",
   "execution_count": null,
   "id": "cc2f3e33",
   "metadata": {},
   "outputs": [],
   "source": [
    "df_all_tracks = pd.DataFrame()   #Create empty dataframe\n",
    "\n",
    "#In this loop, extract each artist id from the related artists dataframe obtained above. And introduce this each artist id\n",
    "#in the 'get_top_tracks' function. This function, described above, returns a dataframe with top-tracks of this artist. At\n",
    "#the end\n",
    "for each_artist_id in df_related_artists['related_id']:\n",
    "    each_df_tracks = get_top_tracks(each_artist_id)\n",
    "    df_all_tracks = pd.concat([df_all_tracks, each_df_tracks], axis=0)\n",
    "    \n",
    "df_all_tracks.head()\n",
    "#df_tracks['related_id'] = id_artist"
   ]
  },
  {
   "cell_type": "code",
   "execution_count": null,
   "id": "a2e4c428",
   "metadata": {},
   "outputs": [],
   "source": [
    "#Merge previous dataframe with the information of artist and related artists with 'top-track' dataframe using 'related_id'\n",
    "df_related_artists = pd.merge(df_related_artists, df_all_tracks, on='related_id')\n",
    "df_related_artists.head()"
   ]
  },
  {
   "cell_type": "code",
   "execution_count": null,
   "id": "ce60bd17",
   "metadata": {},
   "outputs": [],
   "source": [
    "#Reorganise the dataframe columns\n",
    "solution = df_related_artists[['artist_name', 'artist_id', 'artist_genres', 'artist_popularity', 'artist_followers', \n",
    "                              'related_name', 'related_id', 'related_genres', 'related_popularity', 'related_followers', \n",
    "                              'related_href', 'related_track_name', 'related_uri']]\n",
    "solution.head(30)"
   ]
  },
  {
   "cell_type": "markdown",
   "id": "98827be6",
   "metadata": {},
   "source": [
    "---\n",
    "\n",
    "### Bonus track!!!\n",
    "\n",
    "You can publish your own Playlist with [`/playlists`](https://developer.spotify.com/documentation/web-api/reference/#/operations/create-playlist) and [`/tracks`](https://developer.spotify.com/documentation/web-api/reference/#/operations/add-tracks-to-playlist).\n",
    "\n",
    "![I quit](https://media.giphy.com/media/gui67fZ3xIneM/giphy.gif)"
   ]
  },
  {
   "cell_type": "code",
   "execution_count": null,
   "id": "56735c65",
   "metadata": {},
   "outputs": [],
   "source": [
    "# Bonus\n",
    "\n",
    "#Instrucciones para crear un archivo donde almacenar la id de Spotify sin tener que borrarla\n",
    "\n",
    "# Install dotenv lib: conda install -c conda-forge python-dotenv\n",
    "\n",
    "# En git.bash puedo crear un archivo utilizando:  touch .env  (el archivo se llama '.env'). Para hacer esto hay que estar\n",
    "# en la misma carpeta donde está el archivo\n",
    "\n",
    "# Para abrir el archivo en gitbash utilizar: nano .env. Abajo aparecen las instrucciones para salir.\n",
    "\n",
    "# Hay que añadir el '.env' al archivo '.gitignore' para que no se suba al repo. Para comprobar si está en el archivo\n",
    "# utilizar el comunado: 'cat .gitignore' desde gitbash y desde el directorio donde está el archivo ''.gitignore'\n",
    "\n",
    "#Incluir el import: 'from dotenv import dotenv_values'"
   ]
  },
  {
   "cell_type": "code",
   "execution_count": null,
   "id": "6e5f68c5",
   "metadata": {},
   "outputs": [],
   "source": [
    "import base64\n",
    "#import requests\n",
    "\n",
    "# Your client ID and client secret\n",
    "client_id = config.get('CLIENT_ID')   # CLIENT ID\n",
    "client_secret = config['CLIENT_SECRET']   # CLIENT SECRET\n",
    "user_id = \"carloscsv\"\n",
    "\n",
    "\n",
    "# Construct the Basic Authorization header\n",
    "auth_header = base64.b64encode(f'{client_id}:{client_secret}'.encode('utf-8')).decode('utf-8')\n",
    "\n",
    "# Define the token request parameters\n",
    "auth_options = {\n",
    "    'url': 'https://accounts.spotify.com/api/token',\n",
    "    'headers': {\n",
    "        'Authorization': f'Basic {auth_header}'\n",
    "    },\n",
    "    'data': {\n",
    "        'grant_type': 'client_credentials'\n",
    "    }\n",
    "}\n",
    "\n",
    "# Send a POST request to obtain the access token\n",
    "response = requests.post(**auth_options)\n",
    "\n",
    "if response.status_code == 200:\n",
    "    # Extract the access token from the response\n",
    "    token = response.json().get('access_token')\n",
    "\n",
    "    # Define the API request parameters with the access token\n",
    "    api_url = f'https://api.spotify.com/v1/users/{user_id}'\n",
    "    api_headers = {\n",
    "        'Authorization': f'Bearer {token}'\n",
    "    }\n",
    "\n",
    "    # Send a GET request to the Spotify Web API\n",
    "    api_response = requests.get(api_url, headers=api_headers)\n",
    "\n",
    "    if api_response.status_code == 200:\n",
    "        # Print the response from the Spotify API\n",
    "        print(api_response.json())\n",
    "    else:\n",
    "        print(f'Failed to fetch data from the Spotify API: {api_response.status_code}')\n",
    "else:\n",
    "    print(f'Failed to obtain the access token: {response.status_code}')"
   ]
  },
  {
   "cell_type": "code",
   "execution_count": null,
   "id": "8e613e80",
   "metadata": {},
   "outputs": [],
   "source": [
    "import webbrowser\n",
    "from urllib.parse import urlparse, parse_qs"
   ]
  },
  {
   "cell_type": "code",
   "execution_count": null,
   "id": "fd961acb",
   "metadata": {},
   "outputs": [],
   "source": [
    "redirect_uri = \"https://example.com/callback\"\n",
    "scopes = \"playlist-modify-public\""
   ]
  },
  {
   "cell_type": "code",
   "execution_count": null,
   "id": "69cca296",
   "metadata": {},
   "outputs": [],
   "source": [
    "authorization_url = f\"https://accounts.spotify.com/authorize?client_id={client_id}&response_type=token&redirect_uri={redirect_uri}&scope={scopes}\"\n",
    "#Con esto se abre el navegador utilizando la url anterior\n",
    "webbrowser.open(authorization_url)"
   ]
  },
  {
   "cell_type": "code",
   "execution_count": null,
   "id": "10500a24",
   "metadata": {},
   "outputs": [],
   "source": [
    "url = 'https://example.com/callback#access_token=BQDmv5RX3_rrjwBUQX55m48PyPEN4N8vCCudgvDndzDy1dQYMzE6LaUmsuozPzLc3m-eLOzHCXTGvfQ9I_m5bP4Vi69grqThKfQNbJf3h_MG_k70GsR0jnt55Dp5J_4NlcxJ1JGlzvapzmXTjdowY0hhU6Fb4Bwlt7BBoHcX0DBKFVA_Gv5VNQQGt4xd56sp7UT6PBKjbA&token_type=Bearer&expires_in=3600'\n",
    "code = url.replace(\"https://example.com/callback#access_token=\",'').split('&state')[0]\n",
    "code"
   ]
  },
  {
   "cell_type": "code",
   "execution_count": null,
   "id": "2ea77012",
   "metadata": {},
   "outputs": [],
   "source": [
    "# Define a function to extract the access token from the URL\n",
    "def get_access_token():\n",
    "    auth_url = input('Enter the URL after being redirected: ')\n",
    "    parsed_url = urlparse(auth_url)\n",
    "    fragment = parsed_url.fragment\n",
    "    query_parameters = parse_qs(fragment)\n",
    "    access_token = query_parameters.get('access_token', [None])[0]\n",
    "    return access_token\n",
    "# Obtain the access token\n",
    "access_token = get_access_token()"
   ]
  },
  {
   "cell_type": "code",
   "execution_count": null,
   "id": "f567e5b0",
   "metadata": {},
   "outputs": [],
   "source": [
    "# Replace these variables with your own values\n",
    "#access_token = “your_access_token_here”\n",
    "user_id = 'carloscsv' # “your_user_id_here”\n",
    "playlist_name = input('Enter a playlist name:')\n",
    "playlist_description = f'Playlist para realizar practicas {playlist_name}'\n",
    "# Define the API endpoint and headers\n",
    "api_endpoint = f'https://api.spotify.com/v1/users/{user_id}/playlists'\n",
    "headers = {\n",
    "    'Authorization': f'Bearer {access_token}',\n",
    "    'Content-Type': 'application/json'\n",
    "}\n",
    "\n",
    "# Create the playlist\n",
    "playlist_data = {\n",
    "    'name': playlist_name,\n",
    "    'description': playlist_description,\n",
    "    'public': True  # You can change the visibility as needed\n",
    "}"
   ]
  },
  {
   "cell_type": "code",
   "execution_count": null,
   "id": "409899b6",
   "metadata": {},
   "outputs": [],
   "source": [
    "def add_tracks_to_playlist(access_token, playlist_id, track_uris):\n",
    "    api_endpoint = f'https://api.spotify.com/v1/playlists/{playlist_id}/tracks'\n",
    "    headers = {\n",
    "        'Authorization': f'Bearer {access_token}',\n",
    "        'Content-Type': 'application/json'\n",
    "    }\n",
    "    data = {\n",
    "        'uris': track_uris\n",
    "    }\n",
    "    response = requests.post(api_endpoint, headers=headers, json=data)\n",
    "    if response.status_code == 201:\n",
    "        print('Tracks added to the playlist successfully.')\n",
    "    else:\n",
    "        print('Failed to add tracks to the playlist.')"
   ]
  },
  {
   "cell_type": "code",
   "execution_count": null,
   "id": "945423a9",
   "metadata": {},
   "outputs": [],
   "source": [
    "add_tracks_to_playlist(access_token, playlist_id, track_uris)"
   ]
  },
  {
   "cell_type": "markdown",
   "id": "c9ef14a9",
   "metadata": {},
   "source": [
    "### CÓDIGO RODRIGO"
   ]
  },
  {
   "cell_type": "code",
   "execution_count": null,
   "id": "6254b53e",
   "metadata": {},
   "outputs": [],
   "source": [
    "import base64\n",
    "\n",
    "def callback():\n",
    "    redirect_uri='https://example.com/callback'\n",
    "    auth_options = {\n",
    "        'url': 'https://accounts.spotify.com/api/token',\n",
    "        'data': {\n",
    "            'code': code,\n",
    "            'redirect_uri': redirect_uri,\n",
    "            'grant_type': 'authorization_code'\n",
    "        },\n",
    "        'headers': {\n",
    "            'Content-Type': 'application/x-www-form-urlencoded',\n",
    "            'Authorization': 'Basic ' + base64.b64encode(f'{client_id}:{client_secret}'.encode()).decode()\n",
    "        }\n",
    "    }\n",
    "\n",
    "    response = requests.post(auth_options['url'], data=auth_options['data'], headers=auth_options['headers'])\n",
    "    return response.json()\n",
    "\n",
    "token_res = callback()\n",
    "token_res"
   ]
  },
  {
   "cell_type": "markdown",
   "id": "9436b623",
   "metadata": {},
   "source": [
    "---"
   ]
  },
  {
   "cell_type": "markdown",
   "id": "a9487ef7",
   "metadata": {},
   "source": [
    "You can always try with the [wrapper](https://github.com/plamere/spotipy)!!!\n",
    "\n",
    "![I quit](https://media.giphy.com/media/3oFzlXPvXYZ4q8VQOs/giphy.gif)"
   ]
  },
  {
   "cell_type": "markdown",
   "id": "0a399ce8",
   "metadata": {},
   "source": [
    "---"
   ]
  }
 ],
 "metadata": {
  "kernelspec": {
   "display_name": "Python (m1_env)",
   "language": "python",
   "name": "m1_env"
  },
  "language_info": {
   "codemirror_mode": {
    "name": "ipython",
    "version": 3
   },
   "file_extension": ".py",
   "mimetype": "text/x-python",
   "name": "python",
   "nbconvert_exporter": "python",
   "pygments_lexer": "ipython3",
   "version": "3.10.13"
  }
 },
 "nbformat": 4,
 "nbformat_minor": 5
}
